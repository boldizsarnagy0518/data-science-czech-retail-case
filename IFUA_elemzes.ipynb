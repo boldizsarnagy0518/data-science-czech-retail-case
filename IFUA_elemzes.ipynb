{
 "cells": [
  {
   "cell_type": "markdown",
   "id": "5a963a46",
   "metadata": {},
   "source": [
    "Imports"
   ]
  },
  {
   "cell_type": "code",
   "execution_count": null,
   "id": "1a032e8e",
   "metadata": {},
   "outputs": [],
   "source": [
    "import pandas as pd\n",
    "from sklearn.linear_model import LinearRegression\n",
    "import numpy as np\n",
    "import matplotlib.pyplot as plt"
   ]
  },
  {
   "cell_type": "markdown",
   "id": "be91fc94",
   "metadata": {},
   "source": [
    "Adatok betöltése, tisztitása"
   ]
  },
  {
   "cell_type": "code",
   "execution_count": null,
   "id": "86f62194",
   "metadata": {},
   "outputs": [],
   "source": [
    "file_path = \"Cseh hírlappiac adattábla.xlsx\"\n",
    "excel_data = pd.ExcelFile(file_path)\n",
    "\n",
    "df_forgalom = excel_data.parse('Forgalom')\n",
    "df_bolttorzs = excel_data.parse('Bolttörzs')\n",
    "df_koltsegek = excel_data.parse('Költségek')\n",
    "display(df_forgalom.head())\n",
    "display(df_forgalom.describe())\n",
    "display(df_forgalom.dtypes)\n",
    "display(df_bolttorzs.head())\n",
    "display(df_bolttorzs.describe())\n",
    "display(df_bolttorzs.dtypes)\n",
    "display(df_koltsegek.head())\n",
    "display(df_koltsegek.describe())\n",
    "display(df_koltsegek.dtypes)"
   ]
  },
  {
   "cell_type": "markdown",
   "id": "46b43566",
   "metadata": {},
   "source": [
    "Költség tisztítása"
   ]
  },
  {
   "cell_type": "code",
   "execution_count": null,
   "id": "5eaa4cdf",
   "metadata": {},
   "outputs": [],
   "source": [
    "remaining_columns = df_forgalom.isna().sum()\n",
    "display(remaining_columns)\n",
    "\n",
    "numerical_cols = df_forgalom.select_dtypes(include=['float64', 'int64']).columns\n",
    "non_numerical_cols = df_forgalom.select_dtypes(exclude=['float64', 'int64']).columns\n",
    "\n",
    "for col in numerical_cols:\n",
    "    if df_forgalom[col].isna().sum() > 0:\n",
    "        df_forgalom[col] = df_forgalom[col].fillna(df_forgalom[col].mean())\n",
    "\n",
    "for col in non_numerical_cols:\n",
    "    if df_forgalom[col].isna().sum() > 0:\n",
    "        df_forgalom[col] = df_forgalom[col].fillna(\"N/A\")\n",
    "\n",
    "remaining_columns = df_forgalom.isna().sum() \n",
    "display(remaining_columns)"
   ]
  },
  {
   "cell_type": "markdown",
   "id": "8bc2257c",
   "metadata": {},
   "source": [
    "Bolttörzs tisztítása"
   ]
  },
  {
   "cell_type": "code",
   "execution_count": null,
   "id": "7c69fb0f",
   "metadata": {},
   "outputs": [],
   "source": [
    "remaining_columns = df_bolttorzs.isna().sum()\n",
    "display(remaining_columns)\n",
    "\n",
    "numerical_cols = df_bolttorzs.select_dtypes(include=['float64', 'int64']).columns\n",
    "non_numerical_cols = df_bolttorzs.select_dtypes(exclude=['float64', 'int64']).columns\n",
    "\n",
    "\n",
    "for col in numerical_cols:\n",
    "    if df_bolttorzs[col].isna().sum() > 0:\n",
    "        df_bolttorzs[col] = df_bolttorzs[col].fillna(df_bolttorzs[col].mean())\n",
    "\n",
    "\n",
    "for col in non_numerical_cols:\n",
    "    if df_bolttorzs[col].isna().sum() > 0:\n",
    "        df_bolttorzs[col] = df_bolttorzs[col].fillna(\"N/A\")\n",
    "\n",
    "remaining_columns = df_bolttorzs.isna().sum() \n",
    "display(remaining_columns)\n"
   ]
  },
  {
   "cell_type": "markdown",
   "id": "ccad9811",
   "metadata": {},
   "source": [
    "Forgalom tisztítása"
   ]
  },
  {
   "cell_type": "code",
   "execution_count": null,
   "id": "43cbd9fd",
   "metadata": {},
   "outputs": [],
   "source": [
    "remaining_columns = df_koltsegek.isna().sum() \n",
    "display(remaining_columns)\n",
    "\n",
    "numerical_cols = df_koltsegek.select_dtypes(include=['float64', 'int64']).columns\n",
    "non_numerical_cols = df_koltsegek.select_dtypes(exclude=['float64', 'int64']).columns\n",
    "\n",
    "for col in numerical_cols:\n",
    "    if df_koltsegek[col].isna().sum() > 0:\n",
    "        df_koltsegek[col] = df_koltsegek[col].fillna(df_koltsegek[col].mean())\n",
    "\n",
    "for col in non_numerical_cols:\n",
    "    if df_koltsegek[col].isna().sum() > 0:\n",
    "        df_koltsegek[col] = df_koltsegek[col].fillna(\"N/A\")\n",
    "\n",
    "        \n",
    "remaining_columns = df_koltsegek.isna().sum() \n",
    "display(remaining_columns)\n"
   ]
  },
  {
   "cell_type": "markdown",
   "id": "a284668b",
   "metadata": {},
   "source": [
    "Duplikált sorok törlése"
   ]
  },
  {
   "cell_type": "code",
   "execution_count": null,
   "id": "888fc131",
   "metadata": {},
   "outputs": [],
   "source": [
    "duplikalt_boltok = df_bolttorzs[df_bolttorzs.duplicated()]\n",
    "duplikalt_koltsegek = df_koltsegek[df_koltsegek.duplicated]\n",
    "duplikalt_forgalom = df_forgalom[df_forgalom.duplicated()]\n",
    "\n",
    "\n",
    "df_bolttorzs = df_bolttorzs.drop_duplicates()\n",
    "df_koltsegek = df_koltsegek.drop_duplicates()\n",
    "df_forgalom = df_forgalom.drop_duplicates()"
   ]
  },
  {
   "cell_type": "markdown",
   "id": "d86ce67e",
   "metadata": {},
   "source": [
    "Azokat a mezőket amik érvénytelen értéket vesznek fel az átlagra cseréljük"
   ]
  },
  {
   "cell_type": "code",
   "execution_count": null,
   "id": "206d0954",
   "metadata": {},
   "outputs": [],
   "source": [
    "oszlopok_check = [\n",
    "    'Alapterület', 'Létszám', 'Hirlap_regal_db', 'Hirlap_kivul_regal_db'\n",
    "]\n",
    "\n",
    "for col in oszlopok_check:\n",
    "    mask = df_bolttorzs[col] <= 0\n",
    "    if mask.any():\n",
    "        avg_val = df_bolttorzs.loc[~mask, col].mean()\n",
    "        df_bolttorzs.loc[mask, col] = avg_val"
   ]
  },
  {
   "cell_type": "code",
   "execution_count": null,
   "id": "f3e8d3f0",
   "metadata": {},
   "outputs": [],
   "source": [
    "df_forgalom.rename(columns={'Bolt név': 'Boltnév'}, inplace=True)"
   ]
  },
  {
   "cell_type": "markdown",
   "id": "8194fcaf",
   "metadata": {},
   "source": [
    "Aggregálás és korrelációt mátrxi számítása a profitra"
   ]
  },
  {
   "cell_type": "code",
   "execution_count": null,
   "id": "2dccbddd",
   "metadata": {},
   "outputs": [],
   "source": [
    "df_gm_ev = (\n",
    "    df_forgalom.groupby(['Boltnév', 'Év'])['GM'].sum().reset_index()\n",
    "    )\n",
    "\n",
    "\n",
    "df_profit_ev = pd.merge(df_gm_ev, df_koltsegek, on=['Boltnév', 'Év'], how='left')\n",
    "df_profit_ev['Profit'] = df_profit_ev['GM'] + df_profit_ev['Költségek']\n",
    "\n",
    "\n",
    "df_teljes = pd.merge(df_profit_ev, df_bolttorzs, on='Boltnév', how='left')\n",
    "\n",
    "df_teljes = df_teljes.sort_values(by=['Profit'], ascending=False).reset_index(drop=True)\n",
    "\n",
    "df_bolt = (\n",
    "    df_teljes.groupby('Boltnév')['Profit']\n",
    "    .agg(Atlag_Profit='mean', Min_Profit='min', Max_Profit='max')\n",
    "    .reset_index()\n",
    "    .sort_values(by='Atlag_Profit', ascending=False)\n",
    ")\n",
    "\n",
    "top5_boltok = df_bolt.head(5)['Boltnév']\n",
    "df_top = df_teljes[df_teljes['Boltnév'].isin(top5_boltok)]\n",
    "display(df_top)\n",
    "\n",
    "bottom5_boltok = df_bolt.tail(5)['Boltnév']\n",
    "df_bottom = df_teljes[df_teljes['Boltnév'].isin(bottom5_boltok)]\n",
    "display(df_bottom)                          \n",
    "\n",
    "# display(df_teljes.head(10))\n",
    "# display(df_teljes.tail(10))\n",
    "\n",
    "pd.set_option('display.max_columns', None)"
   ]
  },
  {
   "cell_type": "code",
   "execution_count": null,
   "id": "7748b6ec",
   "metadata": {},
   "outputs": [],
   "source": [
    "# df_korrel = df_teljes.corr(numeric_only=True)\n",
    "\n",
    "# df_szurt = df_korrel[(df_korrel.abs() > 0.2)]\n",
    "# df_szurt = df_szurt['Profit'].dropna().drop(labels=['Profit', 'GM', 'Költségek'])\n",
    "# importatant_cols = df_szurt.index\n",
    "# display(importatant_cols)"
   ]
  },
  {
   "cell_type": "markdown",
   "id": "366a9939",
   "metadata": {},
   "source": [
    "Boltok potenciáljának vizsgálata linreggel"
   ]
  },
  {
   "cell_type": "code",
   "execution_count": null,
   "id": "9ae4655a",
   "metadata": {},
   "outputs": [],
   "source": [
    "# df_regresszio = df_teljes.dropna(subset=importatant_cols)\n",
    "\n",
    "\n",
    "# X = df_regresszio[importatant_cols]\n",
    "# y = df_regresszio['Profit']\n",
    "\n",
    "# modell = LinearRegression()\n",
    "# modell.fit(X, y)\n",
    "\n",
    "\n",
    "# df_regresszio['Becsült profit'] = modell.predict(X)\n",
    "# df_regresszio['Eltérés (tény - becsült)'] = df_regresszio['Profit'] - df_regresszio['Becsült profit']\n",
    "# df_regresszio['Kihasználtság'] = df_regresszio['Profit'] / df_regresszio['Becsült profit']\n",
    "\n",
    "# display(df_regresszio)\n"
   ]
  },
  {
   "cell_type": "code",
   "execution_count": null,
   "id": "e6a5bf16",
   "metadata": {},
   "outputs": [],
   "source": [
    "# r2 = modell.score(X, y)\n",
    "# r2"
   ]
  },
  {
   "cell_type": "code",
   "execution_count": null,
   "id": "7e7302af",
   "metadata": {},
   "outputs": [],
   "source": [
    "df_korrel = df_teljes.corr(numeric_only=True).drop(labels=['Profit', 'GM', 'Költségek'])"
   ]
  },
  {
   "cell_type": "code",
   "execution_count": null,
   "id": "308cd10c",
   "metadata": {},
   "outputs": [],
   "source": [
    "legnagyobb_r2 = 0\n",
    "legjobb_threshold = 0\n",
    "\n",
    "for threshold in np.arange(0.46, 0.00, -0.02):\n",
    "\n",
    "    df_szurt = df_korrel[(df_korrel.abs() > threshold)]\n",
    "    df_szurt = df_szurt['Profit'].dropna()\n",
    "    importatant_cols = df_szurt.index.tolist()\n",
    "    \n",
    "    df_regresszio = df_teljes.dropna(subset=importatant_cols)\n",
    "\n",
    "\n",
    "    X = df_regresszio[importatant_cols]\n",
    "    y = df_regresszio['Profit']\n",
    "\n",
    "    modell = LinearRegression()\n",
    "    modell.fit(X, y)\n",
    "\n",
    "\n",
    "    df_regresszio['Becsült profit'] = modell.predict(X)\n",
    "    df_regresszio['Eltérés (tény - becsült)'] = df_regresszio['Profit'] - df_regresszio['Becsült profit']\n",
    "    df_regresszio['Kihasználtság'] = df_regresszio['Profit'] / df_regresszio['Becsült profit']\n",
    "    \n",
    "    r2 = modell.score(X, y)\n",
    "    \n",
    "    if r2 > legnagyobb_r2:\n",
    "        legnagyobb_r2 = r2\n",
    "        legjobb_threshold = threshold\n",
    "        \n",
    "display(legnagyobb_r2, legjobb_threshold)"
   ]
  },
  {
   "cell_type": "code",
   "execution_count": null,
   "id": "3cd62ca3",
   "metadata": {},
   "outputs": [],
   "source": [
    "df_szurt = df_korrel[(df_korrel.abs() > legjobb_threshold)]\n",
    "                     \n",
    "df_szurt = df_szurt['Profit'].dropna()\n",
    "importatant_cols = df_szurt.index.tolist()\n",
    "\n",
    "df_regresszio = df_teljes.dropna(subset=importatant_cols)\n",
    "\n",
    "X = df_regresszio[importatant_cols]\n",
    "y = df_regresszio['Profit']\n",
    "\n",
    "modell = LinearRegression()\n",
    "modell.fit(X, y)\n",
    "\n",
    "df_regresszio['Becsült profit'] = modell.predict(X)\n",
    "df_regresszio['Eltérés (tény - becsült)'] = df_regresszio['Profit'] - df_regresszio['Becsült profit']\n",
    "df_regresszio['Kihasználtság'] = df_regresszio['Profit'] / df_regresszio['Becsült profit']\n"
   ]
  },
  {
   "cell_type": "code",
   "execution_count": null,
   "id": "b7e3e130",
   "metadata": {},
   "outputs": [],
   "source": [
    "kihasznalat_gyenge = df_regresszio[df_regresszio['Kihasználtság'] <= 0.4]\n",
    "print('--- LEGROSSZABB BOLTOK ---')\n",
    "display(kihasznalat_gyenge.sort_values(by='Kihasználtság', ascending=True).reset_index(drop=True))\n",
    "\n",
    "\n",
    "kihasznalat_gyenge_db = kihasznalat_gyenge.shape[0]\n",
    "print('--- Gyenge kihasználtságú boltok ---')\n",
    "display(kihasznalat_gyenge_db)\n",
    "\n",
    "alulteljesito_boltok = df_regresszio[(df_regresszio['Kihasználtság'] > 0.4) & (df_regresszio['Kihasználtság'] <= 0.7)]\n",
    "display(alulteljesito_boltok.sort_values(by='Kihasználtság', ascending=True).reset_index(drop=True))\n",
    "\n",
    "print('--- Legjobb boltok ---')\n",
    "legjobb = df_regresszio.sort_values(by='Kihasználtság', ascending=False).head(20)\n",
    "display(legjobb)"
   ]
  },
  {
   "cell_type": "code",
   "execution_count": null,
   "id": "9678eec4",
   "metadata": {},
   "outputs": [],
   "source": [
    "df_termek_pivot = df_forgalom.pivot_table(\n",
    "    index='Boltnév',\n",
    "    columns='Termékkategória',\n",
    "    values='GM',\n",
    "    aggfunc='sum'\n",
    ")\n",
    "\n",
    "\n",
    "df_termek_pivot = df_termek_pivot.fillna(0)\n",
    "\n",
    "df_termek_corr = df_termek_pivot.corr()\n",
    "display(df_termek_corr)"
   ]
  },
  {
   "cell_type": "code",
   "execution_count": null,
   "id": "c40a28da",
   "metadata": {},
   "outputs": [],
   "source": [
    "df_havi_gm_teljes = (\n",
    "    df_forgalom.groupby(['Év', 'Hó', 'Termékkategória'])['GM']\n",
    "    .sum()\n",
    "    .reset_index()\n",
    ")\n",
    "\n",
    "display(df_havi_gm_teljes)\n"
   ]
  },
  {
   "cell_type": "code",
   "execution_count": null,
   "id": "ef9788ec",
   "metadata": {},
   "outputs": [],
   "source": [
    "df_havi_gm_teljes['Dátum'] = pd.to_datetime(df_havi_gm_teljes['Év'].astype(str) + '-' + df_havi_gm_teljes['Hó'].astype(str))\n",
    "\n",
    "ev_lista = sorted(df_havi_gm_teljes['Év'].unique())\n",
    "kategoria_lista = df_havi_gm_teljes['Termékkategória'].unique()\n",
    "\n",
    "fig, axs = plt.subplots(nrows=(len(ev_lista) + 1) // 2, ncols=2, figsize=(14, 10))\n",
    "axs = axs.flatten()\n",
    "\n",
    "for i, ev in enumerate(ev_lista):\n",
    "    adat = df_havi_gm_teljes[df_havi_gm_teljes['Év'] == ev]\n",
    "    ax = axs[i]\n",
    "    for kat in kategoria_lista:\n",
    "        kat_adat = adat[adat['Termékkategória'] == kat]\n",
    "        ax.plot(kat_adat['Dátum'], kat_adat['GM'], label=kat, marker='o')\n",
    "    ax.set_title(f\"{ev} havi GM trendek\")\n",
    "    ax.set_xlabel('Hónap')\n",
    "    ax.set_ylabel('GM')\n",
    "    ax.grid(True)\n",
    "    ax.legend()\n",
    "\n",
    "plt.tight_layout()\n",
    "plt.show()\n"
   ]
  },
  {
   "cell_type": "code",
   "execution_count": null,
   "id": "82b67213",
   "metadata": {},
   "outputs": [],
   "source": [
    "df_ev_termkat = (\n",
    "    df_forgalom.groupby(['Év', 'Termékkategória'])['GM'].sum().reset_index()\n",
    ")\n",
    "\n",
    "df_ev_ossz_gm = (\n",
    "    df_ev_termkat.groupby('Év')['GM']\n",
    "    .sum()\n",
    "    .reset_index()\n",
    "    .rename(columns={'GM': 'Éves össz GM'})\n",
    ")\n",
    "\n",
    "df_ev_termkat = pd.merge(df_ev_termkat, df_ev_ossz_gm, on='Év', how='left')\n",
    "df_ev_termkat['Részesedés (%)'] = 100 * df_ev_termkat['GM'] / df_ev_termkat['Éves össz GM']\n",
    "\n",
    "df_ev_termkat[df_ev_termkat['Év'] == 2016]\n",
    "df_ev_termkat[df_ev_termkat['Év'] == 2017]\n"
   ]
  },
  {
   "cell_type": "code",
   "execution_count": null,
   "id": "d65db9ee",
   "metadata": {},
   "outputs": [],
   "source": [
    "df_2016 = df_ev_termkat[df_ev_termkat['Év'] == 2016]\n",
    "labels_2016 = df_2016['Termékkategória']\n",
    "sizes_2016 = df_2016['GM']\n",
    "\n",
    "df_2017 = df_ev_termkat[df_ev_termkat['Év'] == 2017]\n",
    "labels_2017 = df_2017['Termékkategória']\n",
    "sizes_2017 = df_2017['GM']\n",
    "\n",
    "fig, axes = plt.subplots(1, 2, figsize=(12, 6))\n",
    "\n",
    "axes[0].pie(sizes_2016, labels=labels_2016, autopct='%1.1f%%', startangle=140)\n",
    "axes[0].set_title('Termékkategóriák részesedése (2016)')\n",
    "\n",
    "axes[1].pie(sizes_2017, labels=labels_2017, autopct='%1.1f%%', startangle=140)\n",
    "axes[1].set_title('Termékkategóriák részesedése (2017)')\n",
    "\n",
    "plt.tight_layout()\n",
    "plt.show()"
   ]
  }
 ],
 "metadata": {
  "kernelspec": {
   "display_name": "Python 3",
   "language": "python",
   "name": "python3"
  },
  "language_info": {
   "codemirror_mode": {
    "name": "ipython",
    "version": 3
   },
   "file_extension": ".py",
   "mimetype": "text/x-python",
   "name": "python",
   "nbconvert_exporter": "python",
   "pygments_lexer": "ipython3",
   "version": "3.13.2"
  }
 },
 "nbformat": 4,
 "nbformat_minor": 5
}
